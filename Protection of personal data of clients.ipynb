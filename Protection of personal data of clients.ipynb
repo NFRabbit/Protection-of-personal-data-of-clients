{
 "cells": [
  {
   "cell_type": "markdown",
   "metadata": {},
   "source": [
    "<h1>Table of Contents<span class=\"tocSkip\"></span></h1>\n",
    "<div class=\"toc\"><ul class=\"toc-item\"><li><span><a href=\"#Data-Loading\" data-toc-modified-id=\"Data-Loading-1\"><span class=\"toc-item-num\">1&nbsp;&nbsp;</span>Data Loading</a></span></li><li><span><a href=\"#Matrix-Multiplication\" data-toc-modified-id=\"Matrix-Multiplication-2\"><span class=\"toc-item-num\">2&nbsp;&nbsp;</span>Matrix Multiplication</a></span></li><li><span><a href=\"#Transformation-Algorithm\" data-toc-modified-id=\"Transformation-Algorithm-3\"><span class=\"toc-item-num\">3&nbsp;&nbsp;</span>Transformation Algorithm</a></span></li><li><span><a href=\"#Algorithm-Testing\" data-toc-modified-id=\"Algorithm-Testing-4\"><span class=\"toc-item-num\">4&nbsp;&nbsp;</span>Algorithm Testing</a></span></li><li><span></span></li></ul></div>"
   ]
  },
  {
   "cell_type": "markdown",
   "metadata": {},
   "source": [
    "# Protection of personal data of clients"
   ]
  },
  {
   "cell_type": "markdown",
   "metadata": {},
   "source": [
    " we need to protect the data of clients for the insurance company \"Hot Pot.\" Develop a method for data transformation that makes it difficult to recover personal information. Additionally, explain the correctness of the method's operation. It is necessary to ensure that the quality of machine learning models does not decrease during data transformation, and finding the best model is not required."
   ]
  },
  {
   "cell_type": "markdown",
   "metadata": {},
   "source": [
    " - Пол - Gender\n",
    "\n",
    " - Возраст- Age\n",
    "\n",
    " - Зарплата - Salary\n",
    "\n",
    " - Члены семьи - Family members\n",
    "\n",
    " - Страховые выплаты - Insurance payments"
   ]
  },
  {
   "cell_type": "markdown",
   "metadata": {},
   "source": [
    "##  Data Loading"
   ]
  },
  {
   "cell_type": "code",
   "execution_count": 2,
   "metadata": {},
   "outputs": [],
   "source": [
    "import pandas as pd\n",
    "import numpy as np\n",
    "\n",
    "from sklearn.model_selection import train_test_split\n",
    "from sklearn.linear_model import LinearRegression\n",
    "from sklearn.metrics import r2_score"
   ]
  },
  {
   "cell_type": "code",
   "execution_count": 3,
   "metadata": {},
   "outputs": [],
   "source": [
    "import warnings\n",
    "warnings.filterwarnings('ignore')"
   ]
  },
  {
   "cell_type": "code",
   "execution_count": 4,
   "metadata": {},
   "outputs": [
    {
     "data": {
      "text/html": [
       "<div>\n",
       "<style scoped>\n",
       "    .dataframe tbody tr th:only-of-type {\n",
       "        vertical-align: middle;\n",
       "    }\n",
       "\n",
       "    .dataframe tbody tr th {\n",
       "        vertical-align: top;\n",
       "    }\n",
       "\n",
       "    .dataframe thead th {\n",
       "        text-align: right;\n",
       "    }\n",
       "</style>\n",
       "<table border=\"1\" class=\"dataframe\">\n",
       "  <thead>\n",
       "    <tr style=\"text-align: right;\">\n",
       "      <th></th>\n",
       "      <th>Пол</th>\n",
       "      <th>Возраст</th>\n",
       "      <th>Зарплата</th>\n",
       "      <th>Члены семьи</th>\n",
       "      <th>Страховые выплаты</th>\n",
       "    </tr>\n",
       "  </thead>\n",
       "  <tbody>\n",
       "    <tr>\n",
       "      <th>0</th>\n",
       "      <td>1</td>\n",
       "      <td>41.0</td>\n",
       "      <td>49600.0</td>\n",
       "      <td>1</td>\n",
       "      <td>0</td>\n",
       "    </tr>\n",
       "    <tr>\n",
       "      <th>1</th>\n",
       "      <td>0</td>\n",
       "      <td>46.0</td>\n",
       "      <td>38000.0</td>\n",
       "      <td>1</td>\n",
       "      <td>1</td>\n",
       "    </tr>\n",
       "    <tr>\n",
       "      <th>2</th>\n",
       "      <td>0</td>\n",
       "      <td>29.0</td>\n",
       "      <td>21000.0</td>\n",
       "      <td>0</td>\n",
       "      <td>0</td>\n",
       "    </tr>\n",
       "    <tr>\n",
       "      <th>3</th>\n",
       "      <td>0</td>\n",
       "      <td>21.0</td>\n",
       "      <td>41700.0</td>\n",
       "      <td>2</td>\n",
       "      <td>0</td>\n",
       "    </tr>\n",
       "    <tr>\n",
       "      <th>4</th>\n",
       "      <td>1</td>\n",
       "      <td>28.0</td>\n",
       "      <td>26100.0</td>\n",
       "      <td>0</td>\n",
       "      <td>0</td>\n",
       "    </tr>\n",
       "    <tr>\n",
       "      <th>5</th>\n",
       "      <td>1</td>\n",
       "      <td>43.0</td>\n",
       "      <td>41000.0</td>\n",
       "      <td>2</td>\n",
       "      <td>1</td>\n",
       "    </tr>\n",
       "    <tr>\n",
       "      <th>6</th>\n",
       "      <td>1</td>\n",
       "      <td>39.0</td>\n",
       "      <td>39700.0</td>\n",
       "      <td>2</td>\n",
       "      <td>0</td>\n",
       "    </tr>\n",
       "    <tr>\n",
       "      <th>7</th>\n",
       "      <td>1</td>\n",
       "      <td>25.0</td>\n",
       "      <td>38600.0</td>\n",
       "      <td>4</td>\n",
       "      <td>0</td>\n",
       "    </tr>\n",
       "    <tr>\n",
       "      <th>8</th>\n",
       "      <td>1</td>\n",
       "      <td>36.0</td>\n",
       "      <td>49700.0</td>\n",
       "      <td>1</td>\n",
       "      <td>0</td>\n",
       "    </tr>\n",
       "    <tr>\n",
       "      <th>9</th>\n",
       "      <td>1</td>\n",
       "      <td>32.0</td>\n",
       "      <td>51700.0</td>\n",
       "      <td>1</td>\n",
       "      <td>0</td>\n",
       "    </tr>\n",
       "    <tr>\n",
       "      <th>10</th>\n",
       "      <td>1</td>\n",
       "      <td>25.0</td>\n",
       "      <td>36600.0</td>\n",
       "      <td>1</td>\n",
       "      <td>0</td>\n",
       "    </tr>\n",
       "    <tr>\n",
       "      <th>11</th>\n",
       "      <td>1</td>\n",
       "      <td>38.0</td>\n",
       "      <td>29300.0</td>\n",
       "      <td>0</td>\n",
       "      <td>0</td>\n",
       "    </tr>\n",
       "    <tr>\n",
       "      <th>12</th>\n",
       "      <td>0</td>\n",
       "      <td>23.0</td>\n",
       "      <td>39500.0</td>\n",
       "      <td>3</td>\n",
       "      <td>0</td>\n",
       "    </tr>\n",
       "    <tr>\n",
       "      <th>13</th>\n",
       "      <td>0</td>\n",
       "      <td>21.0</td>\n",
       "      <td>55000.0</td>\n",
       "      <td>0</td>\n",
       "      <td>0</td>\n",
       "    </tr>\n",
       "    <tr>\n",
       "      <th>14</th>\n",
       "      <td>0</td>\n",
       "      <td>40.0</td>\n",
       "      <td>43700.0</td>\n",
       "      <td>1</td>\n",
       "      <td>0</td>\n",
       "    </tr>\n",
       "  </tbody>\n",
       "</table>\n",
       "</div>"
      ],
      "text/plain": [
       "    Пол  Возраст  Зарплата  Члены семьи  Страховые выплаты\n",
       "0     1     41.0   49600.0            1                  0\n",
       "1     0     46.0   38000.0            1                  1\n",
       "2     0     29.0   21000.0            0                  0\n",
       "3     0     21.0   41700.0            2                  0\n",
       "4     1     28.0   26100.0            0                  0\n",
       "5     1     43.0   41000.0            2                  1\n",
       "6     1     39.0   39700.0            2                  0\n",
       "7     1     25.0   38600.0            4                  0\n",
       "8     1     36.0   49700.0            1                  0\n",
       "9     1     32.0   51700.0            1                  0\n",
       "10    1     25.0   36600.0            1                  0\n",
       "11    1     38.0   29300.0            0                  0\n",
       "12    0     23.0   39500.0            3                  0\n",
       "13    0     21.0   55000.0            0                  0\n",
       "14    0     40.0   43700.0            1                  0"
      ]
     },
     "execution_count": 4,
     "metadata": {},
     "output_type": "execute_result"
    }
   ],
   "source": [
    "data = pd.read_csv(\"/datasets/insurance.csv\")\n",
    "data.head(15)"
   ]
  },
  {
   "cell_type": "code",
   "execution_count": 5,
   "metadata": {},
   "outputs": [
    {
     "name": "stdout",
     "output_type": "stream",
     "text": [
      "<class 'pandas.core.frame.DataFrame'>\n",
      "RangeIndex: 5000 entries, 0 to 4999\n",
      "Data columns (total 5 columns):\n",
      " #   Column             Non-Null Count  Dtype  \n",
      "---  ------             --------------  -----  \n",
      " 0   Пол                5000 non-null   int64  \n",
      " 1   Возраст            5000 non-null   float64\n",
      " 2   Зарплата           5000 non-null   float64\n",
      " 3   Члены семьи        5000 non-null   int64  \n",
      " 4   Страховые выплаты  5000 non-null   int64  \n",
      "dtypes: float64(2), int64(3)\n",
      "memory usage: 195.4 KB\n"
     ]
    }
   ],
   "source": [
    "data.info()"
   ]
  },
  {
   "cell_type": "code",
   "execution_count": 6,
   "metadata": {},
   "outputs": [
    {
     "data": {
      "text/plain": [
       "153"
      ]
     },
     "execution_count": 6,
     "metadata": {},
     "output_type": "execute_result"
    }
   ],
   "source": [
    "data.duplicated().sum()"
   ]
  },
  {
   "cell_type": "code",
   "execution_count": 7,
   "metadata": {},
   "outputs": [
    {
     "data": {
      "text/plain": [
       "0"
      ]
     },
     "execution_count": 7,
     "metadata": {},
     "output_type": "execute_result"
    }
   ],
   "source": [
    "data.drop_duplicates(inplace=True)\n",
    "data.duplicated().sum()"
   ]
  },
  {
   "cell_type": "markdown",
   "metadata": {},
   "source": [
    "<b>Conclusion:</b>\n",
    "There are no missing values. I want to draw attention to one nuance - we don't have a unique customer identifier such as an ID or full name, so we cannot say with 100% certainty that all matches are duplicates."
   ]
  },
  {
   "cell_type": "markdown",
   "metadata": {},
   "source": [
    "## Matrix Multiplication"
   ]
  },
  {
   "cell_type": "markdown",
   "metadata": {},
   "source": [
    "Notation:\n",
    "\n",
    "- $X$ — feature matrix (the first column consists of ones)\n",
    "- $y$ — target vector\n",
    "\n",
    "- $P$ — matrix by which the features are multiplied\n",
    "\n",
    "- $w$ — vector of weights of linear regression (the first element is the bias)\n"
   ]
  },
  {
   "cell_type": "markdown",
   "metadata": {},
   "source": [
    "Predictions:\n",
    "\n",
    "$$\n",
    "a = Xw\n",
    "$$\n",
    "\n",
    "\n",
    "Learning task:\n",
    "\n",
    "$$\n",
    "w = \\arg\\min_w MSE(Xw, y)\n",
    "$$\n",
    "Learning formula:\n",
    "\n",
    "$$\n",
    "w = (X^T X)^{-1} X^T y\n",
    "$$\n"
   ]
  },
  {
   "cell_type": "markdown",
   "metadata": {},
   "source": [
    "<b>Answer:</b>The determinant of the matrix $P$ being non-zero implies that it is invertible.\n",
    "\n",
    "Let's consider the predictions before and after multiplying the feature matrix $X$ by $P$:\n",
    "\n",
    "Before:\n",
    "\n",
    "$$\n",
    "a = Xw\n",
    "$$\n",
    "\n",
    "After:\n",
    "\n",
    "$$\n",
    "a \n",
    "′\n",
    " =XPw \n",
    "′\n",
    " =XPP \n",
    "−1\n",
    " w \n",
    "′\n",
    " =Xw=a\n",
    " $$\n",
    "\n",
    "Therefore, the predictions are the same, which means that the quality of the linear regression is not affected by multiplying the feature matrix by an invertible matrix."
   ]
  },
  {
   "cell_type": "markdown",
   "metadata": {},
   "source": [
    "<b>Learning formula:</b>\n",
    "\n",
    "$$\n",
    "w = (X^T X)^{-1} X^T y\n",
    "$$   \n",
    "$$\n",
    "a = X(X^T X)^{-1} X^T y\n",
    "$$\n",
    "$$\n",
    "a' = XP((XP)^T XP)^{-1} (XP)^T y\n",
    "$$\n",
    "$$\n",
    "a' = XP(P^T (X^T X) P)^{-1} (XP)^T y\n",
    "$$\n",
    "$$\n",
    "a' = XP(P^T (X^T X) P)^{-1} P^T X^T y\n",
    "$$\n",
    "$$\n",
    "a' = XP(P^T X^T XP)^{-1} P^T X^T y\n",
    "$$\n",
    "$$\n",
    "a' = XPP^{-1}(X^TX)^{-1}(P^T)^{-1} X^Ty\n",
    "$$\n",
    "$$\n",
    "(AB)^{-1} = B^{-1}A^{-1}, \n",
    "where \n",
    "$$\n",
    "$$\n",
    "A=X^TX, B=P\n",
    "$$\n",
    "$$\n",
    "PP^{-1} = E\n",
    "$$\n",
    "$$\n",
    "(P^T)^{-1}P^T =E\n",
    "$$\n",
    "$$\n",
    "a' = XE(X^TX)^{-1}EX^Ty = X(X^TX)^{-1}X^Ty = Xw = a\n",
    "$$"
   ]
  },
  {
   "cell_type": "markdown",
   "metadata": {},
   "source": [
    "## Transformation Algorithm"
   ]
  },
  {
   "cell_type": "markdown",
   "metadata": {},
   "source": [
    "**Algorithm**\n",
    "\n",
    "Create a random matrix.\n",
    "\n",
    "Check its invertibility.\n",
    "\n",
    "Multiply it by the features matrix.\n",
    "\n",
    "Calculate the metrics of the trained model on the original features and on the features multiplied by our matrix.\n",
    "\n",
    "Compare the metrics. If they are equal, the task is completed."
   ]
  },
  {
   "cell_type": "markdown",
   "metadata": {},
   "source": [
    "**Justification**\n",
    "\n",
    "Let's multiply our feature matrix by an arbitrary invertible matrix, train the model on the transformed data. The quality of the model should not change as a result of this transformation, and the personal data of clients will be encrypted in this way."
   ]
  },
  {
   "cell_type": "markdown",
   "metadata": {},
   "source": [
    "## Algorithm Testing"
   ]
  },
  {
   "cell_type": "code",
   "execution_count": 10,
   "metadata": {},
   "outputs": [],
   "source": [
    "features = data.drop('Страховые выплаты', axis=1)\n",
    "target = data['Страховые выплаты']"
   ]
  },
  {
   "cell_type": "code",
   "execution_count": 11,
   "metadata": {},
   "outputs": [],
   "source": [
    "features_train, features_test, target_train, target_test = train_test_split(features, target,\n",
    "                                                                            test_size=0.4, random_state=12345)\n",
    "model = LinearRegression().fit(features_train, target_train)\n",
    "predictions = model.predict(features_test)"
   ]
  },
  {
   "cell_type": "code",
   "execution_count": 12,
   "metadata": {},
   "outputs": [],
   "source": [
    "model = LinearRegression().fit(features_train, target_train)\n",
    "predictions = model.predict(features_test)"
   ]
  },
  {
   "cell_type": "code",
   "execution_count": 13,
   "metadata": {},
   "outputs": [
    {
     "name": "stdout",
     "output_type": "stream",
     "text": [
      "The coefficient of determination is equal to  0.4272661343811538\n"
     ]
    }
   ],
   "source": [
    "rscore = r2_score(target_test, predictions)\n",
    "print(\"The coefficient of determination is equal to \", rscore)"
   ]
  },
  {
   "cell_type": "code",
   "execution_count": 14,
   "metadata": {},
   "outputs": [],
   "source": [
    "#Multiply the matrix\n",
    "matrix = features.values @ features.values.T"
   ]
  },
  {
   "cell_type": "code",
   "execution_count": 15,
   "metadata": {},
   "outputs": [],
   "source": [
    "matrix_train, matrix_test, target_m_train, target_m_test = train_test_split(matrix, target, \n",
    "                                                                            test_size=0.4, random_state=12345)\n",
    "\n",
    "\n",
    "model = LinearRegression().fit(matrix_train, target_m_train)\n",
    "predictions = model.predict(matrix_test)"
   ]
  },
  {
   "cell_type": "code",
   "execution_count": 16,
   "metadata": {},
   "outputs": [
    {
     "name": "stdout",
     "output_type": "stream",
     "text": [
      "The coefficient of determination is equal to  0.4237704125997034\n"
     ]
    }
   ],
   "source": [
    "rscore_2 = r2_score(target_m_test, predictions)\n",
    "print(\"The coefficient of determination is equal to \", rscore_2)"
   ]
  },
  {
   "cell_type": "markdown",
   "metadata": {},
   "source": [
    "<b>Conclusion:</b>\n",
    "\n",
    "In the case of multiplying the feature matrix by a random invertible matrix, it is possible to protect the data while not losing much in the quality of the model. (The slight difference is caused by the peculiarity of the matrix transformations and floating-point arithmetic, which is normal.)"
   ]
  }
 ],
 "metadata": {
  "ExecuteTimeLog": [
   {
    "duration": 351,
    "start_time": "2022-10-12T13:44:12.640Z"
   },
   {
    "duration": 56,
    "start_time": "2022-10-12T13:44:39.681Z"
   },
   {
    "duration": 6,
    "start_time": "2022-10-12T13:44:51.175Z"
   },
   {
    "duration": 640,
    "start_time": "2022-10-12T13:45:14.758Z"
   },
   {
    "duration": 39,
    "start_time": "2022-10-12T13:46:29.969Z"
   },
   {
    "duration": 3,
    "start_time": "2022-10-12T13:46:33.216Z"
   },
   {
    "duration": 8,
    "start_time": "2022-10-12T13:46:34.072Z"
   },
   {
    "duration": 22,
    "start_time": "2022-10-12T13:46:52.820Z"
   },
   {
    "duration": 3,
    "start_time": "2022-10-12T13:48:35.456Z"
   },
   {
    "duration": 22,
    "start_time": "2022-10-12T13:48:36.516Z"
   },
   {
    "duration": 21,
    "start_time": "2022-10-12T13:49:11.732Z"
   },
   {
    "duration": 3,
    "start_time": "2022-10-12T13:50:27.424Z"
   },
   {
    "duration": 19,
    "start_time": "2022-10-12T13:50:28.352Z"
   },
   {
    "duration": 126,
    "start_time": "2022-10-12T13:54:11.291Z"
   },
   {
    "duration": 93,
    "start_time": "2022-10-12T13:54:32.874Z"
   },
   {
    "duration": 72,
    "start_time": "2022-10-12T14:27:05.927Z"
   },
   {
    "duration": 52,
    "start_time": "2022-10-12T15:04:04.869Z"
   },
   {
    "duration": 1609,
    "start_time": "2022-10-12T15:04:07.955Z"
   },
   {
    "duration": 3,
    "start_time": "2022-10-12T15:04:09.808Z"
   },
   {
    "duration": 67,
    "start_time": "2022-10-12T15:04:11.698Z"
   },
   {
    "duration": 1159,
    "start_time": "2022-10-12T16:28:29.060Z"
   },
   {
    "duration": 3,
    "start_time": "2022-10-12T16:28:31.636Z"
   },
   {
    "duration": 2,
    "start_time": "2022-10-12T16:28:33.655Z"
   },
   {
    "duration": 187,
    "start_time": "2022-10-12T16:28:34.684Z"
   },
   {
    "duration": 1910,
    "start_time": "2022-10-12T16:29:09.745Z"
   },
   {
    "duration": 10,
    "start_time": "2022-10-12T16:29:20.484Z"
   },
   {
    "duration": 12,
    "start_time": "2022-10-12T16:29:44.182Z"
   },
   {
    "duration": 109,
    "start_time": "2022-10-12T16:30:17.146Z"
   },
   {
    "duration": 9,
    "start_time": "2022-10-12T16:30:38.409Z"
   },
   {
    "duration": 6,
    "start_time": "2022-10-12T16:31:01.564Z"
   },
   {
    "duration": 5,
    "start_time": "2022-10-12T16:31:36.626Z"
   },
   {
    "duration": 10,
    "start_time": "2022-10-12T16:31:46.090Z"
   },
   {
    "duration": 38,
    "start_time": "2022-10-12T16:32:21.304Z"
   },
   {
    "duration": 3,
    "start_time": "2022-10-12T18:29:36.480Z"
   },
   {
    "duration": 2,
    "start_time": "2022-10-12T18:29:37.192Z"
   },
   {
    "duration": 38,
    "start_time": "2022-10-12T18:29:37.938Z"
   },
   {
    "duration": 12,
    "start_time": "2022-10-12T18:29:41.580Z"
   },
   {
    "duration": 6,
    "start_time": "2022-10-12T18:29:42.560Z"
   },
   {
    "duration": 7,
    "start_time": "2022-10-12T18:29:43.121Z"
   },
   {
    "duration": 10,
    "start_time": "2022-10-12T18:32:56.089Z"
   },
   {
    "duration": 3,
    "start_time": "2022-10-12T18:33:20.154Z"
   },
   {
    "duration": 3,
    "start_time": "2022-10-12T18:33:20.917Z"
   },
   {
    "duration": 38,
    "start_time": "2022-10-12T18:33:21.669Z"
   },
   {
    "duration": 11,
    "start_time": "2022-10-12T18:33:22.320Z"
   },
   {
    "duration": 6,
    "start_time": "2022-10-12T18:33:22.850Z"
   },
   {
    "duration": 9,
    "start_time": "2022-10-12T18:33:23.335Z"
   },
   {
    "duration": 9,
    "start_time": "2022-10-12T18:33:29.376Z"
   },
   {
    "duration": 4,
    "start_time": "2022-10-12T18:33:39.597Z"
   },
   {
    "duration": 10,
    "start_time": "2022-10-12T18:37:23.364Z"
   },
   {
    "duration": 3,
    "start_time": "2022-10-12T18:38:29.977Z"
   },
   {
    "duration": 3,
    "start_time": "2022-10-12T18:38:30.616Z"
   },
   {
    "duration": 38,
    "start_time": "2022-10-12T18:38:31.048Z"
   },
   {
    "duration": 11,
    "start_time": "2022-10-12T18:38:31.247Z"
   },
   {
    "duration": 6,
    "start_time": "2022-10-12T18:38:31.460Z"
   },
   {
    "duration": 8,
    "start_time": "2022-10-12T18:38:31.639Z"
   },
   {
    "duration": 4,
    "start_time": "2022-10-12T18:38:33.685Z"
   },
   {
    "duration": 11,
    "start_time": "2022-10-12T18:38:33.858Z"
   },
   {
    "duration": 7,
    "start_time": "2022-10-12T18:38:52.566Z"
   },
   {
    "duration": 4,
    "start_time": "2022-10-12T18:42:07.574Z"
   },
   {
    "duration": 368,
    "start_time": "2022-10-12T18:43:12.022Z"
   },
   {
    "duration": 60393,
    "start_time": "2022-10-12T18:43:42.099Z"
   },
   {
    "duration": 4,
    "start_time": "2022-10-12T18:46:37.758Z"
   },
   {
    "duration": 5,
    "start_time": "2022-10-12T18:46:50.686Z"
   },
   {
    "duration": 5,
    "start_time": "2022-10-12T18:57:31.987Z"
   },
   {
    "duration": 95,
    "start_time": "2022-10-19T20:57:30.208Z"
   },
   {
    "duration": 57,
    "start_time": "2022-10-23T20:22:47.685Z"
   },
   {
    "duration": 53,
    "start_time": "2022-10-25T12:59:23.760Z"
   },
   {
    "duration": 49,
    "start_time": "2023-05-10T08:14:26.746Z"
   },
   {
    "duration": 1522,
    "start_time": "2023-05-10T08:14:33.337Z"
   },
   {
    "duration": 3,
    "start_time": "2023-05-10T08:14:36.173Z"
   },
   {
    "duration": 107,
    "start_time": "2023-05-10T08:14:36.997Z"
   },
   {
    "duration": 12,
    "start_time": "2023-05-10T08:14:45.438Z"
   },
   {
    "duration": 6,
    "start_time": "2023-05-10T08:14:48.793Z"
   },
   {
    "duration": 8,
    "start_time": "2023-05-10T08:14:54.719Z"
   },
   {
    "duration": 77,
    "start_time": "2023-05-10T08:40:08.958Z"
   },
   {
    "duration": 6,
    "start_time": "2023-05-10T08:40:37.779Z"
   },
   {
    "duration": 4,
    "start_time": "2023-05-10T08:45:11.955Z"
   },
   {
    "duration": 15,
    "start_time": "2023-05-10T08:45:12.578Z"
   },
   {
    "duration": 8,
    "start_time": "2023-05-10T08:45:13.352Z"
   },
   {
    "duration": 5,
    "start_time": "2023-05-10T08:45:29.432Z"
   },
   {
    "duration": 576,
    "start_time": "2023-05-10T08:45:42.852Z"
   },
   {
    "duration": 175601,
    "start_time": "2023-05-10T08:45:45.920Z"
   },
   {
    "duration": 5,
    "start_time": "2023-05-10T08:48:49.470Z"
   }
  ],
  "kernelspec": {
   "display_name": "Python 3 (ipykernel)",
   "language": "python",
   "name": "python3"
  },
  "language_info": {
   "codemirror_mode": {
    "name": "ipython",
    "version": 3
   },
   "file_extension": ".py",
   "mimetype": "text/x-python",
   "name": "python",
   "nbconvert_exporter": "python",
   "pygments_lexer": "ipython3",
   "version": "3.9.5"
  },
  "toc": {
   "base_numbering": 1,
   "nav_menu": {},
   "number_sections": true,
   "sideBar": true,
   "skip_h1_title": true,
   "title_cell": "Содержание",
   "title_sidebar": "Contents",
   "toc_cell": true,
   "toc_position": {},
   "toc_section_display": true,
   "toc_window_display": true
  }
 },
 "nbformat": 4,
 "nbformat_minor": 2
}
